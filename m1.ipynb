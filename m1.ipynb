{
 "cells": [
  {
   "cell_type": "code",
   "execution_count": 18,
   "metadata": {},
   "outputs": [],
   "source": [
    "import numpy as np\n",
    "import pandas as pd"
   ]
  },
  {
   "cell_type": "markdown",
   "metadata": {},
   "source": [
    "## step 1: initialize rows and columns"
   ]
  },
  {
   "cell_type": "code",
   "execution_count": 5,
   "metadata": {},
   "outputs": [
    {
     "name": "stdout",
     "output_type": "stream",
     "text": [
      "Scoring matrix:\n",
      " [[0. 0. 0. 0. 0. 0. 0. 0.]\n",
      " [0. 0. 0. 0. 0. 0. 0. 0.]\n",
      " [0. 0. 0. 0. 0. 0. 0. 0.]\n",
      " [0. 0. 0. 0. 0. 0. 0. 0.]\n",
      " [0. 0. 0. 0. 0. 0. 0. 0.]\n",
      " [0. 0. 0. 0. 0. 0. 0. 0.]\n",
      " [0. 0. 0. 0. 0. 0. 0. 0.]\n",
      " [0. 0. 0. 0. 0. 0. 0. 0.]]\n"
     ]
    }
   ],
   "source": [
    "# build scoring matrix of sequences\n",
    "seq1 = \"GCATGCT\"\n",
    "seq2 = \"GATACCA\"\n",
    "\n",
    "n_rows = len(seq1)\n",
    "n_columns = len(seq2)\n",
    "\n",
    "scoring_matrix = np.zeros((n_rows + 1, n_columns + 1))\n",
    "print(\"Scoring matrix:\\n\",scoring_matrix)"
   ]
  },
  {
   "cell_type": "code",
   "execution_count": 13,
   "metadata": {},
   "outputs": [
    {
     "name": "stdout",
     "output_type": "stream",
     "text": [
      "Scoring matrix:\n",
      " [[ 0. -1. -2. -3. -4. -5. -6. -7.]\n",
      " [-1.  0.  0.  0.  0.  0.  0.  0.]\n",
      " [-2.  0.  0.  0.  0.  0.  0.  0.]\n",
      " [-3.  0.  0.  0.  0.  0.  0.  0.]\n",
      " [-4.  0.  0.  0.  0.  0.  0.  0.]\n",
      " [-5.  0.  0.  0.  0.  0.  0.  0.]\n",
      " [-6.  0.  0.  0.  0.  0.  0.  0.]\n",
      " [-7.  0.  0.  0.  0.  0.  0.  0.]]\n"
     ]
    }
   ],
   "source": [
    "# fill first row and columns\n",
    "scoring_matrix[:,0] = np.linspace(0, -n_rows, n_rows + 1)\n",
    "scoring_matrix[0,:] = np.linspace(0, -n_columns, n_columns + 1)\n",
    "print(\"Scoring matrix:\\n\",scoring_matrix)"
   ]
  },
  {
   "cell_type": "markdown",
   "metadata": {},
   "source": [
    "## step 2: fill the matrix with optimal score"
   ]
  },
  {
   "cell_type": "code",
   "execution_count": 16,
   "metadata": {},
   "outputs": [],
   "source": [
    "# Useful constants\n",
    "gap_penalty = -1\n",
    "match_award = 1\n",
    "mismatch= -1\n",
    "\n",
    "# define a function returns the marks for base alignment\n",
    "def matching(base1, base2):\n",
    "    if base1 == base2:\n",
    "        return match_award\n",
    "    elif base1 == '-' or base2 == \"-\":\n",
    "        return gap_penalty\n",
    "    else:\n",
    "        return mismatch"
   ]
  },
  {
   "cell_type": "code",
   "execution_count": 17,
   "metadata": {},
   "outputs": [
    {
     "name": "stdout",
     "output_type": "stream",
     "text": [
      "Scoring matrix:\n",
      " [[ 0. -1. -2. -3. -4. -5. -6. -7.]\n",
      " [-1.  1.  0. -1. -2. -3. -4. -5.]\n",
      " [-2.  0.  0. -1. -2. -1. -2. -3.]\n",
      " [-3. -1.  1.  0.  0. -1. -2. -1.]\n",
      " [-4. -2.  0.  2.  1.  0. -1. -2.]\n",
      " [-5. -3. -1.  1.  1.  0. -1. -2.]\n",
      " [-6. -4. -2.  0.  0.  2.  1.  0.]\n",
      " [-7. -5. -3. -1. -1.  1.  1.  0.]]\n"
     ]
    }
   ],
   "source": [
    "for i in range(1, n_rows + 1):\n",
    "    for j in range(1, n_columns + 1):\n",
    "        # calculate and compare all three cases:\n",
    "        match = scoring_matrix[i - 1][j - 1] + matching(seq1[i - 1], seq2[j - 1])\n",
    "        seq1_gap = scoring_matrix[i][j - 1] + gap_penalty\n",
    "        seq2_gap = scoring_matrix[i - 1][j] + gap_penalty\n",
    "        scoring_matrix[i,j] = max(match, seq1_gap, seq2_gap)\n",
    "print(\"Scoring matrix:\\n\",scoring_matrix)\n"
   ]
  },
  {
   "cell_type": "code",
   "execution_count": 35,
   "metadata": {},
   "outputs": [
    {
     "data": {
      "text/html": [
       "<div>\n",
       "<style scoped>\n",
       "    .dataframe tbody tr th:only-of-type {\n",
       "        vertical-align: middle;\n",
       "    }\n",
       "\n",
       "    .dataframe tbody tr th {\n",
       "        vertical-align: top;\n",
       "    }\n",
       "\n",
       "    .dataframe thead th {\n",
       "        text-align: right;\n",
       "    }\n",
       "</style>\n",
       "<table border=\"1\" class=\"dataframe\">\n",
       "  <thead>\n",
       "    <tr style=\"text-align: right;\">\n",
       "      <th></th>\n",
       "      <th>0</th>\n",
       "      <th>G</th>\n",
       "      <th>A</th>\n",
       "      <th>T</th>\n",
       "      <th>A</th>\n",
       "      <th>C</th>\n",
       "      <th>C</th>\n",
       "      <th>A</th>\n",
       "    </tr>\n",
       "  </thead>\n",
       "  <tbody>\n",
       "    <tr>\n",
       "      <th>0</th>\n",
       "      <td>0.0</td>\n",
       "      <td>-1.0</td>\n",
       "      <td>-2.0</td>\n",
       "      <td>-3.0</td>\n",
       "      <td>-4.0</td>\n",
       "      <td>-5.0</td>\n",
       "      <td>-6.0</td>\n",
       "      <td>-7.0</td>\n",
       "    </tr>\n",
       "    <tr>\n",
       "      <th>G</th>\n",
       "      <td>-1.0</td>\n",
       "      <td>1.0</td>\n",
       "      <td>0.0</td>\n",
       "      <td>-1.0</td>\n",
       "      <td>-2.0</td>\n",
       "      <td>-3.0</td>\n",
       "      <td>-4.0</td>\n",
       "      <td>-5.0</td>\n",
       "    </tr>\n",
       "    <tr>\n",
       "      <th>C</th>\n",
       "      <td>-2.0</td>\n",
       "      <td>0.0</td>\n",
       "      <td>0.0</td>\n",
       "      <td>-1.0</td>\n",
       "      <td>-2.0</td>\n",
       "      <td>-1.0</td>\n",
       "      <td>-2.0</td>\n",
       "      <td>-3.0</td>\n",
       "    </tr>\n",
       "    <tr>\n",
       "      <th>A</th>\n",
       "      <td>-3.0</td>\n",
       "      <td>-1.0</td>\n",
       "      <td>1.0</td>\n",
       "      <td>0.0</td>\n",
       "      <td>0.0</td>\n",
       "      <td>-1.0</td>\n",
       "      <td>-2.0</td>\n",
       "      <td>-1.0</td>\n",
       "    </tr>\n",
       "    <tr>\n",
       "      <th>T</th>\n",
       "      <td>-4.0</td>\n",
       "      <td>-2.0</td>\n",
       "      <td>0.0</td>\n",
       "      <td>2.0</td>\n",
       "      <td>1.0</td>\n",
       "      <td>0.0</td>\n",
       "      <td>-1.0</td>\n",
       "      <td>-2.0</td>\n",
       "    </tr>\n",
       "    <tr>\n",
       "      <th>G</th>\n",
       "      <td>-5.0</td>\n",
       "      <td>-3.0</td>\n",
       "      <td>-1.0</td>\n",
       "      <td>1.0</td>\n",
       "      <td>1.0</td>\n",
       "      <td>0.0</td>\n",
       "      <td>-1.0</td>\n",
       "      <td>-2.0</td>\n",
       "    </tr>\n",
       "    <tr>\n",
       "      <th>C</th>\n",
       "      <td>-6.0</td>\n",
       "      <td>-4.0</td>\n",
       "      <td>-2.0</td>\n",
       "      <td>0.0</td>\n",
       "      <td>0.0</td>\n",
       "      <td>2.0</td>\n",
       "      <td>1.0</td>\n",
       "      <td>0.0</td>\n",
       "    </tr>\n",
       "    <tr>\n",
       "      <th>T</th>\n",
       "      <td>-7.0</td>\n",
       "      <td>-5.0</td>\n",
       "      <td>-3.0</td>\n",
       "      <td>-1.0</td>\n",
       "      <td>-1.0</td>\n",
       "      <td>1.0</td>\n",
       "      <td>1.0</td>\n",
       "      <td>0.0</td>\n",
       "    </tr>\n",
       "  </tbody>\n",
       "</table>\n",
       "</div>"
      ],
      "text/plain": [
       "     0    G    A    T    A    C    C    A\n",
       "0  0.0 -1.0 -2.0 -3.0 -4.0 -5.0 -6.0 -7.0\n",
       "G -1.0  1.0  0.0 -1.0 -2.0 -3.0 -4.0 -5.0\n",
       "C -2.0  0.0  0.0 -1.0 -2.0 -1.0 -2.0 -3.0\n",
       "A -3.0 -1.0  1.0  0.0  0.0 -1.0 -2.0 -1.0\n",
       "T -4.0 -2.0  0.0  2.0  1.0  0.0 -1.0 -2.0\n",
       "G -5.0 -3.0 -1.0  1.0  1.0  0.0 -1.0 -2.0\n",
       "C -6.0 -4.0 -2.0  0.0  0.0  2.0  1.0  0.0\n",
       "T -7.0 -5.0 -3.0 -1.0 -1.0  1.0  1.0  0.0"
      ]
     },
     "execution_count": 35,
     "metadata": {},
     "output_type": "execute_result"
    }
   ],
   "source": [
    "# print it with sequencing data\n",
    "row_names = [0] + list(seq1)\n",
    "col_names = [0] +list(seq2)\n",
    "score_table = pd.DataFrame(scoring_matrix, columns=col_names, index=row_names)\n",
    "score_table"
   ]
  },
  {
   "cell_type": "markdown",
   "metadata": {},
   "source": [
    "## step 3: tracing back"
   ]
  },
  {
   "cell_type": "code",
   "execution_count": 36,
   "metadata": {},
   "outputs": [
    {
     "name": "stdout",
     "output_type": "stream",
     "text": [
      "GCAT-GCT\n",
      "G-ATACCA\n"
     ]
    }
   ],
   "source": [
    "# tracing back with two tracing strings\n",
    "seq1_trac = \"\"\n",
    "seq2_trac = \"\"\n",
    "\n",
    "# from the bottom right corner\n",
    "i = n_rows\n",
    "j = n_columns\n",
    "while i > 0 and j > 0: # end touching the top or the left edge\n",
    "    score = scoring_matrix[i][j]\n",
    "    diagonal = scoring_matrix[i-1][j-1]\n",
    "    up = scoring_matrix[i-1][j]\n",
    "    left = scoring_matrix[i][j-1]\n",
    "        \n",
    "    # Check what is previous score\n",
    "    if score == diagonal + matching(seq1[i-1], seq2[j-1]):\n",
    "        seq1_trac += seq1[i-1]\n",
    "        seq2_trac += seq2[j-1]\n",
    "        i -= 1\n",
    "        j -= 1\n",
    "    elif score == up + gap_penalty:\n",
    "        seq1_trac += seq1[i-1]\n",
    "        seq2_trac += '-'\n",
    "        i -= 1\n",
    "    elif score == left + gap_penalty:\n",
    "        seq1_trac += '-'\n",
    "        seq2_trac += seq2[j-1]\n",
    "        j -= 1\n",
    "\n",
    "    # Finish tracing up to the top left cell\n",
    "while j > 0:\n",
    "    seq1_trac += '-'\n",
    "    seq2_trac += seq2[j-1]\n",
    "    j -= 1\n",
    "while i > 0:\n",
    "    seq1_trac += seq1[i-1]\n",
    "    seq2_trac += '-'\n",
    "    i -= 1\n",
    "    \n",
    "# the records are reversed\n",
    "align_seq1 = seq1_trac[::-1]\n",
    "align_seq2 = seq2_trac[::-1]\n",
    "    \n",
    "\n",
    "print(align_seq1)\n",
    "print(align_seq2)"
   ]
  }
 ],
 "metadata": {
  "interpreter": {
   "hash": "c5fa49b1b7d5e2906e4eefcbb0032ff02a017e68033cb644d1ced42184e0729f"
  },
  "kernelspec": {
   "display_name": "Python 3.7.6 ('base')",
   "language": "python",
   "name": "python3"
  },
  "language_info": {
   "codemirror_mode": {
    "name": "ipython",
    "version": 3
   },
   "file_extension": ".py",
   "mimetype": "text/x-python",
   "name": "python",
   "nbconvert_exporter": "python",
   "pygments_lexer": "ipython3",
   "version": "3.7.6"
  },
  "orig_nbformat": 4
 },
 "nbformat": 4,
 "nbformat_minor": 2
}
